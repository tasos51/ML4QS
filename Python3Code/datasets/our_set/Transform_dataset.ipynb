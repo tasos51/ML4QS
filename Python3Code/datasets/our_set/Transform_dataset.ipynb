{
 "cells": [
  {
   "cell_type": "code",
   "execution_count": 1,
   "id": "58d6a6c4-4085-4867-8daf-f3353ad5c98b",
   "metadata": {
    "execution": {
     "iopub.execute_input": "2021-06-02T16:46:02.831861Z",
     "iopub.status.busy": "2021-06-02T16:46:02.831549Z",
     "iopub.status.idle": "2021-06-02T16:46:03.040284Z",
     "shell.execute_reply": "2021-06-02T16:46:03.039596Z",
     "shell.execute_reply.started": "2021-06-02T16:46:02.831754Z"
    },
    "tags": []
   },
   "outputs": [],
   "source": [
    "import os\n",
    "import pandas as pd"
   ]
  },
  {
   "cell_type": "code",
   "execution_count": 2,
   "id": "1e9333c9-67a2-447b-a73a-f13de3548790",
   "metadata": {
    "execution": {
     "iopub.execute_input": "2021-06-02T16:46:03.041410Z",
     "iopub.status.busy": "2021-06-02T16:46:03.041271Z",
     "iopub.status.idle": "2021-06-02T16:46:06.289887Z",
     "shell.execute_reply": "2021-06-02T16:46:06.289047Z",
     "shell.execute_reply.started": "2021-06-02T16:46:03.041393Z"
    },
    "tags": []
   },
   "outputs": [],
   "source": [
    "# Getting the current work directory (cwd)\n",
    "directories = ['ML4QS_Alex_120sec_On_Table',\n",
    "               'ML4QS_Alex_120sec_Washing_Hands',\n",
    "               'ML4QS_Alex_150sec_Eating',\n",
    "               'ML4QS_Alex_150sec_Streching',\n",
    "               'ML4QS_Alex_300sec_Walking',\n",
    "               'ML4QS_Alex_300sec_Walking_Holding_Smartphone',\n",
    "               'ML4QS_Alex_900sec_Running']\n",
    "\n",
    "csvs = ('Accelerometer.csv',\n",
    "        'Light.csv',\n",
    "        'Location.csv',\n",
    "        'Proximity.csv')\n",
    "\n",
    "current_dir = os.getcwd()\n",
    "\n",
    "files = []\n",
    "for r, d, f in os.walk(current_dir):\n",
    "    for file in f:\n",
    "        if file.endswith(csvs):\n",
    "            files.append(os.path.join(r, file))\n",
    "                \n",
    "\n",
    "for csv in csvs:\n",
    "    frames = []\n",
    "    for file in files:\n",
    "        if file.endswith(csv):\n",
    "#             pri\n",
    "            time_path = os.path.join(os.path.dirname(file), 'meta', 'time.csv')\n",
    "            time_frame = pd.read_csv(time_path)\n",
    "            data_frame = pd.read_csv(file)\n",
    "            start_time = float(time_frame.loc[time_frame['event'] == 'START', 'system time'])\n",
    "            data_frame['Time (s)'] = ((data_frame.loc[:, 'Time (s)'] + start_time) * 10**9).astype('int64')\n",
    "            \n",
    "            if csv == 'Accelerometer.csv':\n",
    "                 data_frame.rename({'Time (s)':'timestamp',\n",
    "                               'Acceleration x (m/s^2)':'x',\n",
    "                               'Acceleration y (m/s^2)':'y',\n",
    "                               'Acceleration z (m/s^2)':'z'}, axis=1, inplace=True)\n",
    "                    \n",
    "            elif csv == 'Light.csv':\n",
    "                data_frame.rename({'Time (s)':'timestamp',\n",
    "                               'Illuminance (lx)':'illuminance'}, axis=1, inplace=True)\n",
    "                \n",
    "            elif csv == 'Location.csv':\n",
    "                data_frame.rename({'Time (s)':'timestamp',\n",
    "                               'Latitude (°)':'latitude',\n",
    "                               'Longitude (°)':'longitude',\n",
    "                               'Height (m)':'height',\n",
    "                               'Velocity (m/s)':'velocity',\n",
    "                               'Direction (°)':'direction',\n",
    "                               'Horizontal Accuracy (m)':'horizontal_accuracy',\n",
    "                               'Vertical Accuracy (m)':'vertical_accuracy'}, axis=1, inplace=True)\n",
    "                \n",
    "            elif csv == 'Proximity.csv':\n",
    "                data_frame.rename({'Time (s)':'timestamp',\n",
    "                               'Distance (cm)':'distance'}, axis=1, inplace=True)\n",
    "            frames.append(data_frame)\n",
    "    final_frame = pd.concat(frames, ignore_index = True)\n",
    "    final_frame.to_csv('final/' + csv)"
   ]
  },
  {
   "cell_type": "code",
   "execution_count": 3,
   "id": "411a7e6c-7c67-4054-b147-182cc476b8da",
   "metadata": {
    "execution": {
     "iopub.execute_input": "2021-06-02T16:46:06.291212Z",
     "iopub.status.busy": "2021-06-02T16:46:06.290974Z",
     "iopub.status.idle": "2021-06-02T16:46:06.351642Z",
     "shell.execute_reply": "2021-06-02T16:46:06.350685Z",
     "shell.execute_reply.started": "2021-06-02T16:46:06.291176Z"
    },
    "tags": []
   },
   "outputs": [],
   "source": [
    "labels = pd.DataFrame(columns=['label', 'label_start', 'label_end'])\n",
    "for directory in directories:\n",
    "    path = os.path.join(current_dir, directory, 'meta', 'time.csv')\n",
    "    frame = pd.read_csv(path)\n",
    "    label_start = int(frame.loc[frame['event'] == 'START', 'system time'].item() * 10**9)\n",
    "    label_end = int(frame.loc[frame['event'] == 'PAUSE', 'system time'].item() * 10**9)\n",
    "    labels = labels.append({'label': directory, 'label_start':label_start, 'label_end':label_end}, ignore_index=True)\n",
    "labels.to_csv('final/' + 'labels.csv')"
   ]
  }
 ],
 "metadata": {
  "kernelspec": {
   "display_name": "Python [conda env:ML4QS]",
   "language": "python",
   "name": "conda-env-ML4QS-py"
  },
  "language_info": {
   "codemirror_mode": {
    "name": "ipython",
    "version": 3
   },
   "file_extension": ".py",
   "mimetype": "text/x-python",
   "name": "python",
   "nbconvert_exporter": "python",
   "pygments_lexer": "ipython3",
   "version": "3.7.10"
  }
 },
 "nbformat": 4,
 "nbformat_minor": 5
}
